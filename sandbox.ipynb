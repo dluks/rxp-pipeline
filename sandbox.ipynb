{
 "cells": [
  {
   "cell_type": "markdown",
   "metadata": {},
   "source": [
    "### Targets\n",
    "\n",
    "1. ~~User can convert directory of pre-tiled las files into ply~~\n",
    "2. User can convert single large las file into tiled ply\n",
    "3. User can convert pre-tiled las files into new distance tiled ply"
   ]
  },
  {
   "cell_type": "code",
   "execution_count": null,
   "metadata": {},
   "outputs": [],
   "source": [
    "import os\n",
    "import glob\n",
    "import numpy as np\n",
    "import pandas as pd\n",
    "import pdal\n",
    "import json\n",
    "import tempfile"
   ]
  },
  {
   "cell_type": "code",
   "execution_count": null,
   "metadata": {},
   "outputs": [],
   "source": [
    "fn = \"../pacarou/0_original_laz/*.las\"\n",
    "\n",
    "cmds = []\n",
    "reader = {\"type\": \"readers.las\", \"extra_dims\": \"Reflectance=float\", \"filename\": fn}\n",
    "cmds.append(reader)\n",
    "merge = {\n",
    "    \"type\": \"filters.merge\",\n",
    "}\n",
    "# cmds.append(merge)\n",
    "split = {\n",
    "    \"type\": \"filters.splitter\",\n",
    "    \"length\": 10,\n",
    "}\n",
    "# cmds.append(split)\n",
    "writer = {\n",
    "    \"type\": \"writers.las\",\n",
    "    \"filename\": \"test/tiling/tile_#.las\"\n",
    "}\n",
    "cmds.append(writer)\n",
    "# link commmands and pass to pdal\n",
    "JSON = json.dumps(cmds)\n",
    "\n",
    "pipeline = pdal.Pipeline(JSON)\n",
    "pipeline.execute()"
   ]
  },
  {
   "cell_type": "code",
   "execution_count": null,
   "metadata": {},
   "outputs": [],
   "source": [
    "!pdal info \"test/tiling/tile_1.las\""
   ]
  },
  {
   "cell_type": "code",
   "execution_count": null,
   "metadata": {},
   "outputs": [],
   "source": [
    "pipeline.quickinfo"
   ]
  },
  {
   "cell_type": "code",
   "execution_count": null,
   "metadata": {},
   "outputs": [],
   "source": [
    "pipeline.arrays[0]"
   ]
  },
  {
   "cell_type": "code",
   "execution_count": null,
   "metadata": {},
   "outputs": [],
   "source": [
    "import tempfile\n",
    "\n",
    "temp = tempfile.mkdtemp(dir=\"./\")\n"
   ]
  },
  {
   "cell_type": "code",
   "execution_count": null,
   "metadata": {},
   "outputs": [],
   "source": [
    "import shutil\n",
    "shutil.rmtree(temp)"
   ]
  },
  {
   "cell_type": "code",
   "execution_count": null,
   "metadata": {},
   "outputs": [],
   "source": [
    "las = list(enumerate(sorted(glob.glob(os.path.join(\"test/tiling/tmp3yihflf_/\", \"*.las\")))))"
   ]
  },
  {
   "cell_type": "code",
   "execution_count": null,
   "metadata": {},
   "outputs": [],
   "source": [
    "las[0][-1]"
   ]
  }
 ],
 "metadata": {
  "kernelspec": {
   "display_name": "Python 3.9.13 ('gfz')",
   "language": "python",
   "name": "python3"
  },
  "language_info": {
   "codemirror_mode": {
    "name": "ipython",
    "version": 3
   },
   "file_extension": ".py",
   "mimetype": "text/x-python",
   "name": "python",
   "nbconvert_exporter": "python",
   "pygments_lexer": "ipython3",
   "version": "3.9.13"
  },
  "orig_nbformat": 4,
  "vscode": {
   "interpreter": {
    "hash": "7ec16fba4a1a9f826f937dafc8b9116b048920672485b56493ff5f4c03962850"
   }
  }
 },
 "nbformat": 4,
 "nbformat_minor": 2
}
