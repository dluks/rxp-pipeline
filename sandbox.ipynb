{
 "cells": [
  {
   "cell_type": "markdown",
   "metadata": {},
   "source": [
    "### Targets\n",
    "\n",
    "1. ~~User can convert directory of pre-tiled las files into ply~~\n",
    "2. User can convert single large las file into tiled ply\n",
    "3. User can convert pre-tiled las files into new distance tiled ply"
   ]
  },
  {
   "cell_type": "code",
   "execution_count": null,
   "metadata": {},
   "outputs": [],
   "source": [
    "import os\n",
    "import glob\n",
    "import numpy as np\n",
    "import pandas as pd\n",
    "import laspy\n",
    "import pdal\n",
    "import json"
   ]
  },
  {
   "cell_type": "code",
   "execution_count": null,
   "metadata": {},
   "outputs": [],
   "source": [
    "fn = \"../pacarou/0_original_laz/*.las\"\n",
    "\n",
    "cmds = []\n",
    "reader = {\"type\": \"readers.las\", \"filename\": fn}\n",
    "cmds.append(reader)\n",
    "merge = {\n",
    "    \"type\": \"filters.merge\",\n",
    "    \"tag\": \"A\"\n",
    "}\n",
    "cmds.append(merge)\n",
    "split = {\n",
    "    \"type\": \"filters.splitter\",\n",
    "    \"length\": 10,\n",
    "}\n",
    "cmds.append(split)\n",
    "writer = {\n",
    "    \"type\": \"writers.las\",\n",
    "    \"filename\": \"tile_#.las\"\n",
    "}\n",
    "cmds.append(writer)\n",
    "# link commmands and pass to pdal\n",
    "JSON = json.dumps(cmds)\n",
    "\n",
    "pipeline = pdal.Pipeline(JSON)\n",
    "pipeline.execute()"
   ]
  },
  {
   "cell_type": "code",
   "execution_count": null,
   "metadata": {},
   "outputs": [],
   "source": [
    "pipeline.arrays[0]"
   ]
  }
 ],
 "metadata": {
  "kernelspec": {
   "display_name": "Python 3.9.13 ('rsiv')",
   "language": "python",
   "name": "python3"
  },
  "language_info": {
   "codemirror_mode": {
    "name": "ipython",
    "version": 3
   },
   "file_extension": ".py",
   "mimetype": "text/x-python",
   "name": "python",
   "nbconvert_exporter": "python",
   "pygments_lexer": "ipython3",
   "version": "3.9.13"
  },
  "orig_nbformat": 4,
  "vscode": {
   "interpreter": {
    "hash": "71e688b954d902b4a55caabd51fbe36bd50a20d472e1a85360af90ed004984c7"
   }
  }
 },
 "nbformat": 4,
 "nbformat_minor": 2
}
